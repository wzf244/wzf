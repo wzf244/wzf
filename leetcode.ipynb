{
 "cells": [
  {
   "cell_type": "markdown",
   "metadata": {},
   "source": [
    "744.给你一个排序后的字符列表 letters ，列表中只包含小写英文字母。  \n",
    "另给出一个目标字母 target，请你寻找在这一有序列表里比目标字母大的最小字母。\n",
    "- 2 <= letters.length <= 104\n",
    "- letters[i] 是一个小写字母\n",
    "- letters 按非递减顺序排序\n",
    "- letters 最少包含两个不同的字母\n",
    "- target 是一个小写字母\n",
    "- 在比较时，字母是依序循环出现的。"
   ]
  },
  {
   "cell_type": "code",
   "execution_count": 33,
   "metadata": {},
   "outputs": [
    {
     "data": {
      "text/plain": [
       "'j'"
      ]
     },
     "execution_count": 33,
     "metadata": {},
     "output_type": "execute_result"
    }
   ],
   "source": [
    "class Solution(object):\n",
    "    def nextGreatestLetter(self, letters, target):\n",
    "        \"\"\"\n",
    "        :type letters: List[str]\n",
    "        :type target: str\n",
    "        :rtype: str\n",
    "        \"\"\"\n",
    "        return next((letter for letter in letters if letter > target), letters[0])\n",
    "        \n",
    "        \n",
    "\n",
    "letters = ['c', 'f', 'j'];target = 'g'\n",
    "s=Solution()\n",
    "s.nextGreatestLetter(letters,target)"
   ]
  }
 ],
 "metadata": {
  "interpreter": {
   "hash": "df642eef7b43fe7a4a517bca7a97690968a466268416ac555ac71584a4a4c66c"
  },
  "kernelspec": {
   "display_name": "Python 3.10.4 64-bit",
   "language": "python",
   "name": "python3"
  },
  "language_info": {
   "codemirror_mode": {
    "name": "ipython",
    "version": 3
   },
   "file_extension": ".py",
   "mimetype": "text/x-python",
   "name": "python",
   "nbconvert_exporter": "python",
   "pygments_lexer": "ipython3",
   "version": "3.10.4"
  },
  "orig_nbformat": 4
 },
 "nbformat": 4,
 "nbformat_minor": 2
}
