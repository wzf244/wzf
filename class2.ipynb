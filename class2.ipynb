{
 "cells": [
  {
   "cell_type": "markdown",
   "metadata": {},
   "source": [
    "对于单个字符的编码，Python 使用<br>\n",
    " ord() 获取字符的整数表示，<br>\n",
    "chr() 把编码转换为对应的字符。"
   ]
  },
  {
   "cell_type": "code",
   "execution_count": 4,
   "metadata": {},
   "outputs": [
    {
     "name": "stdout",
     "output_type": "stream",
     "text": [
      "65\n",
      "20013\n",
      "B\n",
      "文\n"
     ]
    }
   ],
   "source": [
    "print(ord('A'))\n",
    "print(ord('中'))\n",
    "print(chr(66))\n",
    "print(chr(25991))"
   ]
  },
  {
   "cell_type": "markdown",
   "metadata": {},
   "source": [
    "%-formmating(类似于C语言占位符)"
   ]
  },
  {
   "cell_type": "code",
   "execution_count": 10,
   "metadata": {},
   "outputs": [
    {
     "name": "stdout",
     "output_type": "stream",
     "text": [
      "I am wzf\n",
      "My name is wzf,and I am 21 years old.\n",
      "* 22* *011*\n",
      "*3.142* *4.000e+03*\n"
     ]
    }
   ],
   "source": [
    "print('I am %s'%'wzf')\n",
    "name='wzf'\n",
    "age=21\n",
    "print('My name is %s,and I am %d years old.'%(name,age))\n",
    "\n",
    "print('*%3d* *%03d*' % (22, 11))\n",
    "print('*%.3f* *%8.3e*' % (3.1415926 , 4000.21))"
   ]
  },
  {
   "cell_type": "markdown",
   "metadata": {},
   "source": [
    "对%-formatting的改进str.format()<br>\n",
    "可通过引用索引来以任何顺序引用变量"
   ]
  },
  {
   "cell_type": "code",
   "execution_count": 13,
   "metadata": {},
   "outputs": [
    {
     "name": "stdout",
     "output_type": "stream",
     "text": [
      "Hello, Ming. You are 23.\n"
     ]
    }
   ],
   "source": [
    "name = 'Ming'\n",
    "age = 23\n",
    "print('Hello, {1}. You are {0}.'.format(age,name ))"
   ]
  },
  {
   "cell_type": "markdown",
   "metadata": {},
   "source": [
    "如果插入变量名称，则会获得额外的能够传递对象的权限，<br>\n",
    "然后在大括号之间引用参数和方法。<br>\n",
    "可以使用 ** 来用字典来完成这个巧妙的技巧.\n"
   ]
  },
  {
   "cell_type": "code",
   "execution_count": 4,
   "metadata": {},
   "outputs": [
    {
     "name": "stdout",
     "output_type": "stream",
     "text": [
      "Hello, Ming. You are 23.\n",
      "Hello, Ming. You are 23.\n"
     ]
    }
   ],
   "source": [
    "person = {'name': 'Ming', 'age': 23}\n",
    "print('Hello, {name}. You are {age}.'.format(name=person['name'\n",
    "], age=person['age']))\n",
    "\n",
    "print('Hello, {name}. You are {age}.'.format(**person))"
   ]
  },
  {
   "cell_type": "markdown",
   "metadata": {},
   "source": [
    " f-string:  \n",
    " 与其他格式化方式相比,不仅更易读，  \n",
    " 更简洁，不易出错，而且速度更快"
   ]
  },
  {
   "cell_type": "code",
   "execution_count": 12,
   "metadata": {},
   "outputs": [
    {
     "name": "stdout",
     "output_type": "stream",
     "text": [
      "Hello , Ming . You are 23.\n",
      "Hello , Ming . You are 23.\n"
     ]
    }
   ],
   "source": [
    "name ='Ming '\n",
    "age = 23\n",
    "print(f'Hello , {name }. You are {age}.')\n",
    "print(F'Hello , {name }. You are {age}.')"
   ]
  },
  {
   "cell_type": "markdown",
   "metadata": {},
   "source": [
    "列表(list)"
   ]
  },
  {
   "cell_type": "code",
   "execution_count": 18,
   "metadata": {},
   "outputs": [
    {
     "name": "stdout",
     "output_type": "stream",
     "text": [
      "3\n",
      "['Math', 'Chinese', 'English', 'P.E.']\n",
      "['Math', 'Chinese', 'Physics', 'English', 'P.E.']\n",
      "['Chinese', 'Physics', 'English', 'P.E.']\n",
      "['Math', 'Physics', 'English', 'P.E.']\n"
     ]
    }
   ],
   "source": [
    "courses=['Math','Chinese','English']\n",
    "print(len(courses))\n",
    "courses.append('P.E.')\n",
    "print(courses)\n",
    "courses.insert(2,'Physics')#insert(index,element)\n",
    "print(courses)\n",
    "courses.pop(0) #pop() delete the last element\n",
    "print(courses)\n",
    "courses[0]='Math'\n",
    "print(courses)"
   ]
  },
  {
   "cell_type": "markdown",
   "metadata": {},
   "source": [
    "元组(tuple)的操作"
   ]
  },
  {
   "cell_type": "code",
   "execution_count": 20,
   "metadata": {},
   "outputs": [
    {
     "name": "stdout",
     "output_type": "stream",
     "text": [
      "<class 'tuple'> ('math', 'chinese', 3)\n",
      "<class 'tuple'> (1,)\n",
      "<class 'int'> 1\n"
     ]
    }
   ],
   "source": [
    "tp=('math','chinese',3)\n",
    "print(type(tp),tp)\n",
    "t1=(1,)\n",
    "t2=(1)\n",
    "print(type(t1),t1)\n",
    "print(type(t2),t2)"
   ]
  },
  {
   "cell_type": "markdown",
   "metadata": {},
   "source": [
    "**字典**(dict):在其他语言中也称为map，  \n",
    "使用键-值对(key-value pair)存储."
   ]
  },
  {
   "cell_type": "code",
   "execution_count": 2,
   "metadata": {},
   "outputs": [
    {
     "name": "stdout",
     "output_type": "stream",
     "text": [
      "100\n",
      "False\n",
      "{'chinese': 90, 'physics': 80}\n",
      "{'chinese': 90, 'physics': 80, 'P.E.': 99}\n"
     ]
    }
   ],
   "source": [
    "grades={'math':100,'chinese':90,'physics':80}\n",
    "print(grades['math'])\n",
    "\n",
    "print('python' in grades)\n",
    "\n",
    "grades.pop('math')\n",
    "print(grades)\n",
    "grades['P.E.']=99\n",
    "print(grades)"
   ]
  },
  {
   "cell_type": "markdown",
   "metadata": {},
   "source": [
    "集合(set):是一组 key 的集合,不重复"
   ]
  },
  {
   "cell_type": "code",
   "execution_count": 6,
   "metadata": {},
   "outputs": [
    {
     "name": "stdout",
     "output_type": "stream",
     "text": [
      "<class 'set'> {1, 2, 'math'}\n",
      "<class 'set'> {1, 2, 3}\n",
      "{'wzf', 1, 2, 'math'}\n",
      "{'wzf', 2, 'math'}\n",
      "{2}\n",
      "{1, 2, 3, 'wzf', 'math'}\n"
     ]
    }
   ],
   "source": [
    "a={1,2,'math'}\n",
    "print(type(a),a)\n",
    "b=[1,2,3]\n",
    "b=set(b)#可以利用set()过滤重复元素\n",
    "print(type(b),b)\n",
    "a.add('wzf')\n",
    "print(a)\n",
    "a.remove(1)\n",
    "print(a)\n",
    "##可以进行交和并\n",
    "print(a&b)\n",
    "print(a|b)"
   ]
  },
  {
   "cell_type": "markdown",
   "metadata": {},
   "source": [
    "不可变对象的例子"
   ]
  },
  {
   "cell_type": "code",
   "execution_count": 7,
   "metadata": {},
   "outputs": [
    {
     "name": "stdout",
     "output_type": "stream",
     "text": [
      "bcd\n",
      "Bcd\n"
     ]
    }
   ],
   "source": [
    "a='bcd'\n",
    "b=a.replace('b','B')\n",
    "print(a)\n",
    "print(b)"
   ]
  },
  {
   "cell_type": "markdown",
   "metadata": {},
   "source": [
    "for循环：(*iterable*:可迭代对象)  \n",
    "<font color=Red>for</font> element <font color=Red>in</font> iterable   \n",
    "...\n",
    "\n",
    "以及  \n",
    "<font color=Red>for</font> index , elem <font color=Red>in enumerate</font>(iterable):  \n",
    "..."
   ]
  },
  {
   "cell_type": "code",
   "execution_count": 19,
   "metadata": {},
   "outputs": [
    {
     "name": "stdout",
     "output_type": "stream",
     "text": [
      "my math is 100 \n",
      "my chinese is 90 \n",
      "my physics is 80 \n",
      "0-math : 100\n",
      "1-chinese : 90\n",
      "2-physics : 80\n"
     ]
    }
   ],
   "source": [
    "grades = {'math': 100, 'chinese': 90, 'physics': 80}\n",
    "for key in grades:\n",
    "    print(f'my {key} is {grades[key]} ')\n",
    "\n",
    "for index, key in enumerate(grades):\n",
    "    print(f'{index}-{key} : {grades[key]}')\n"
   ]
  },
  {
   "cell_type": "markdown",
   "metadata": {},
   "source": [
    "计算:$$\\sum_{i=1}^{100}$$"
   ]
  },
  {
   "cell_type": "code",
   "execution_count": 23,
   "metadata": {},
   "outputs": [
    {
     "name": "stdout",
     "output_type": "stream",
     "text": [
      "5050\n"
     ]
    }
   ],
   "source": [
    "sum=0\n",
    "for i in range(1,101):\n",
    "    sum+=i\n",
    "print(sum)"
   ]
  },
  {
   "cell_type": "markdown",
   "metadata": {},
   "source": [
    "***while***循环：  \n",
    "while condition：   \n",
    "..."
   ]
  },
  {
   "cell_type": "code",
   "execution_count": 28,
   "metadata": {},
   "outputs": [
    {
     "name": "stdout",
     "output_type": "stream",
     "text": [
      "2500\n"
     ]
    }
   ],
   "source": [
    "#计算100以内的奇数和\n",
    "sum=0\n",
    "n=1\n",
    "while n<=100:\n",
    "    sum+=n\n",
    "    n+=2\n",
    "print(sum)"
   ]
  },
  {
   "cell_type": "markdown",
   "metadata": {},
   "source": [
    "break:  \n",
    "在循环中，可结合 if 和 break 来提前退出循环。"
   ]
  },
  {
   "cell_type": "code",
   "execution_count": 32,
   "metadata": {},
   "outputs": [
    {
     "name": "stdout",
     "output_type": "stream",
     "text": [
      "================\n",
      "a=apple b=banana\n",
      "c=c++   q=quit\n",
      "================\n",
      "\n",
      "Exit\n"
     ]
    }
   ],
   "source": [
    "print(f'''================\n",
    "a=apple b=banana\n",
    "c=c++   q=quit\n",
    "================\n",
    "''' )\n",
    "while True:\n",
    "    x=input('enter a letter:')\n",
    "    if x=='a':\n",
    "        print('you have an apple ')\n",
    "    elif x=='b':\n",
    "        print('you have an banana ')\n",
    "    elif x=='c':\n",
    "        print('you have an c++ ')\n",
    "    elif x=='q':\n",
    "        break\n",
    "print('Exit')"
   ]
  },
  {
   "cell_type": "markdown",
   "metadata": {},
   "source": [
    "***continue***:  \n",
    "在循环中，可结合 if 和 continue 来退出当前循环，直接进入下一次循环。"
   ]
  },
  {
   "cell_type": "code",
   "execution_count": 36,
   "metadata": {},
   "outputs": [
    {
     "name": "stdout",
     "output_type": "stream",
     "text": [
      "2500\n"
     ]
    }
   ],
   "source": [
    "#计算100以内的奇数和\n",
    "sum=0\n",
    "for i in range(1,101):\n",
    "    if i%2==0:\n",
    "        continue\n",
    "    else:\n",
    "        sum+=i\n",
    "print(sum) "
   ]
  },
  {
   "cell_type": "markdown",
   "metadata": {},
   "source": [
    "函数定义"
   ]
  },
  {
   "cell_type": "code",
   "execution_count": 55,
   "metadata": {},
   "outputs": [
    {
     "name": "stdout",
     "output_type": "stream",
     "text": [
      "1.8\n"
     ]
    },
    {
     "ename": "TypeError",
     "evalue": "Please enter a number!",
     "output_type": "error",
     "traceback": [
      "\u001b[1;31m---------------------------------------------------------------------------\u001b[0m",
      "\u001b[1;31mTypeError\u001b[0m                                 Traceback (most recent call last)",
      "\u001b[1;32me:\\学习\\数据结构(python)\\class2.ipynb Cell 32'\u001b[0m in \u001b[0;36m<cell line: 11>\u001b[1;34m()\u001b[0m\n\u001b[0;32m      <a href='vscode-notebook-cell:/e%3A/%E5%AD%A6%E4%B9%A0/%E6%95%B0%E6%8D%AE%E7%BB%93%E6%9E%84%28python%29/class2.ipynb#ch0000049?line=8'>9</a>\u001b[0m x\u001b[39m=\u001b[39m\u001b[39m-\u001b[39m\u001b[39m1.8\u001b[39m;y\u001b[39m=\u001b[39m\u001b[39m'\u001b[39m\u001b[39ma\u001b[39m\u001b[39m'\u001b[39m\n\u001b[0;32m     <a href='vscode-notebook-cell:/e%3A/%E5%AD%A6%E4%B9%A0/%E6%95%B0%E6%8D%AE%E7%BB%93%E6%9E%84%28python%29/class2.ipynb#ch0000049?line=9'>10</a>\u001b[0m \u001b[39mprint\u001b[39m(my_abs(x))\n\u001b[1;32m---> <a href='vscode-notebook-cell:/e%3A/%E5%AD%A6%E4%B9%A0/%E6%95%B0%E6%8D%AE%E7%BB%93%E6%9E%84%28python%29/class2.ipynb#ch0000049?line=10'>11</a>\u001b[0m \u001b[39mprint\u001b[39m(my_abs(y))\n",
      "\u001b[1;32me:\\学习\\数据结构(python)\\class2.ipynb Cell 32'\u001b[0m in \u001b[0;36mmy_abs\u001b[1;34m(x)\u001b[0m\n\u001b[0;32m      <a href='vscode-notebook-cell:/e%3A/%E5%AD%A6%E4%B9%A0/%E6%95%B0%E6%8D%AE%E7%BB%93%E6%9E%84%28python%29/class2.ipynb#ch0000049?line=1'>2</a>\u001b[0m \u001b[39m'''自定義絕對值函數'''\u001b[39;00m\n\u001b[0;32m      <a href='vscode-notebook-cell:/e%3A/%E5%AD%A6%E4%B9%A0/%E6%95%B0%E6%8D%AE%E7%BB%93%E6%9E%84%28python%29/class2.ipynb#ch0000049?line=2'>3</a>\u001b[0m \u001b[39mif\u001b[39;00m \u001b[39mnot\u001b[39;00m \u001b[39misinstance\u001b[39m(x, (\u001b[39mint\u001b[39m , \u001b[39mfloat\u001b[39m)):\u001b[39m#判断类型函数\u001b[39;00m\n\u001b[1;32m----> <a href='vscode-notebook-cell:/e%3A/%E5%AD%A6%E4%B9%A0/%E6%95%B0%E6%8D%AE%E7%BB%93%E6%9E%84%28python%29/class2.ipynb#ch0000049?line=3'>4</a>\u001b[0m     \u001b[39mraise\u001b[39;00m \u001b[39mTypeError\u001b[39;00m(\u001b[39m'\u001b[39m\u001b[39mPlease enter a number!\u001b[39m\u001b[39m'\u001b[39m)\n\u001b[0;32m      <a href='vscode-notebook-cell:/e%3A/%E5%AD%A6%E4%B9%A0/%E6%95%B0%E6%8D%AE%E7%BB%93%E6%9E%84%28python%29/class2.ipynb#ch0000049?line=4'>5</a>\u001b[0m \u001b[39mif\u001b[39;00m x \u001b[39m>\u001b[39m\u001b[39m=\u001b[39m \u001b[39m0\u001b[39m:\n\u001b[0;32m      <a href='vscode-notebook-cell:/e%3A/%E5%AD%A6%E4%B9%A0/%E6%95%B0%E6%8D%AE%E7%BB%93%E6%9E%84%28python%29/class2.ipynb#ch0000049?line=5'>6</a>\u001b[0m     \u001b[39mreturn\u001b[39;00m x\n",
      "\u001b[1;31mTypeError\u001b[0m: Please enter a number!"
     ]
    }
   ],
   "source": [
    "def my_abs(x):\n",
    "    '''自定義絕對值函數'''\n",
    "    if not isinstance(x, (int , float)):#判断类型函数\n",
    "        raise TypeError('Please enter a number!')\n",
    "    if x >= 0:\n",
    "        return x\n",
    "    return -x\n",
    "\n",
    "x=-1.8;y='a'\n",
    "print(my_abs(x))\n",
    "print(my_abs(y))"
   ]
  },
  {
   "cell_type": "markdown",
   "metadata": {},
   "source": [
    "返回多个值：  \n",
    "实际上是返回一个元组,这涉及到 tuple 的解压缩 (pack and unpack)。"
   ]
  },
  {
   "cell_type": "markdown",
   "metadata": {},
   "source": [
    "给定$\\mathbb{R}^2$中的一个点 $(x, y)$，给定位移和角度，  \n",
    "将其移动到另一个点，求该点的坐标。"
   ]
  },
  {
   "cell_type": "code",
   "execution_count": 4,
   "metadata": {},
   "outputs": [
    {
     "name": "stdout",
     "output_type": "stream",
     "text": [
      "(x1,y1)=(1.0000000000000002, 6.0)\n"
     ]
    }
   ],
   "source": [
    "import math\n",
    "\n",
    "\n",
    "def move(x, y, step, angel=0):\n",
    "    x += math.cos(angel)*step\n",
    "    y += math.sin(angel)*step\n",
    "    return x, y\n",
    "if __name__=='__main__':\n",
    "    #只在本文件中测试\n",
    "    x1,y1=move(1,2,4,math.pi/2)\n",
    "    print(f'(x1,y1)={(x1,y1)}')"
   ]
  },
  {
   "cell_type": "markdown",
   "metadata": {},
   "source": [
    "函数参数：  \n",
    "- 位置参数  \n",
    "- 默认参数  \n",
    "- 可变参数  \n",
    "- 关键字参数  \n",
    "- 命名关键字参数  "
   ]
  },
  {
   "cell_type": "markdown",
   "metadata": {},
   "source": [
    "位置参数：  \n",
    "有时也称必备参数，指的是必须按照正确的顺序将实际参数传到函数中，  \n",
    "换句话说，调用函数时传入实际参数的数量和位置都必须和定义函数时保持一致。\n"
   ]
  },
  {
   "cell_type": "code",
   "execution_count": 3,
   "metadata": {},
   "outputs": [
    {
     "name": "stdout",
     "output_type": "stream",
     "text": [
      "4\n"
     ]
    }
   ],
   "source": [
    "def power(x):#有一个位置参数\n",
    "    '''return the square of x'''\n",
    "    return x*x\n",
    "\n",
    "if __name__=='__main__':\n",
    "    print(power(2))"
   ]
  },
  {
   "cell_type": "markdown",
   "metadata": {},
   "source": [
    "默认参数  \n",
    "如果存在多个默认参数，则在调用时，既可以按顺序提供默认参数,   \n",
    "也可以不按顺序提供部分默认参数 (此时需把参数名写上)\n"
   ]
  },
  {
   "cell_type": "code",
   "execution_count": 8,
   "metadata": {},
   "outputs": [
    {
     "name": "stdout",
     "output_type": "stream",
     "text": [
      "4\n",
      "8\n"
     ]
    }
   ],
   "source": [
    "def power_n(x,n=2):#有一个默认参数(默认平方)\n",
    "    '''return the nth power of x'''\n",
    "    x1=x\n",
    "    while n>1:\n",
    "        n-=1\n",
    "        x1*=x  \n",
    "    return x1\n",
    "\n",
    "if __name__=='__main__':\n",
    "    print(power_n(2))\n",
    "    print(power_n(2,n=3))"
   ]
  },
  {
   "cell_type": "markdown",
   "metadata": {},
   "source": [
    "可变参数:  \n",
    "可变参数就是传入参数的个数是可变的，可以是任意多个.  \n",
    "- Python 允许在 list 或 tuple 前加一个 *，  \n",
    " 把 list 或 tuple 中的元素变成可变参数传\n",
    "入函数"
   ]
  },
  {
   "cell_type": "markdown",
   "metadata": {},
   "source": [
    "给定一组数字 $a, b, c, · · · $，计算 $a2 + b2 + c2 + · · · $"
   ]
  },
  {
   "cell_type": "code",
   "execution_count": 10,
   "metadata": {},
   "outputs": [
    {
     "name": "stdout",
     "output_type": "stream",
     "text": [
      "10\n"
     ]
    }
   ],
   "source": [
    "def calc(*numbers):\n",
    "    sum = 0\n",
    "    for n in numbers:\n",
    "        sum += n\n",
    "    return sum\n",
    "\n",
    "\n",
    "if __name__ == '__main__':\n",
    "    print(calc(1, 2, 3, 4))\n"
   ]
  },
  {
   "cell_type": "markdown",
   "metadata": {},
   "source": [
    "关键字参数  \n",
    "允许向函数传递任意多个带参数名的参数，  \n",
    "这些带参数名的参数会在函数内部自动组装成为一个 dict。  \n",
    "- 定义关键字参数时，需在参数前加**。\n",
    "- 可通过 ** 将字典转换为关键字参数传入函数\n"
   ]
  },
  {
   "cell_type": "code",
   "execution_count": 14,
   "metadata": {},
   "outputs": [
    {
     "name": "stdout",
     "output_type": "stream",
     "text": [
      "name: wzf, age: 21, other: {'city': 'wuhan', 'hometown': 'changde'}\n"
     ]
    }
   ],
   "source": [
    "def person(name, age, **kw):\n",
    "    print(f\"name: {name}, age: {age}, other: {kw}\")\n",
    "\n",
    "\n",
    "if __name__ == '__main__':\n",
    "    person('wzf',21,city='wuhan',hometown='changde')\n"
   ]
  },
  {
   "cell_type": "markdown",
   "metadata": {},
   "source": [
    "命名关键字参数：(必须输入参数)  \n",
    "想要限制关键字参数的名字，需要用到命名关键字参数。\n",
    "- 和关键字参数 \\*\\*kw 不同，命名关键字参数需要一个特殊分隔符*，  \n",
    "  *后面的参数被视为<font color=Red>命名关键字参数</font>。\n",
    "- 如果函数定义中已经存在一个可变参数，则后面可直接使用  \n",
    "  命名关键字参数，而不需要特殊分隔符 *。"
   ]
  },
  {
   "cell_type": "markdown",
   "metadata": {},
   "source": [
    "定义一个接受必选参数 $name $和$ age$，且只接收 $gender$ 和 $city$ 作为关键字参数的函数\n",
    "$person()$。"
   ]
  },
  {
   "cell_type": "code",
   "execution_count": 35,
   "metadata": {},
   "outputs": [
    {
     "name": "stdout",
     "output_type": "stream",
     "text": [
      "name:wzf,age:21,gender:man,city:wuhan\n"
     ]
    }
   ],
   "source": [
    "def person2(name, age, *, gender, city):\n",
    "    print(f'name:{name},age:{age},gender:{gender},city:{city}')\n",
    "\n",
    "\n",
    "if __name__ == '__main__':\n",
    "    person2('wzf',21,city='wuhan',gender='man')\n",
    "    "
   ]
  },
  {
   "cell_type": "markdown",
   "metadata": {},
   "source": [
    "参数组合   \n",
    "参数定义的顺序必须是：<font color=Red>必选参数、默认参数、可变参数、命名关键字参数</font>和<font color=Red>关键字参数</font>。\n",
    "\n"
   ]
  },
  {
   "cell_type": "code",
   "execution_count": 37,
   "metadata": {},
   "outputs": [
    {
     "name": "stdout",
     "output_type": "stream",
     "text": [
      "a=10,b=12,c=13,d=13,other={'h': 12} \n"
     ]
    }
   ],
   "source": [
    "def f1(a, b, c=0, *, d, **kw):\n",
    "    print(f'a={a},b={b},c={c},d={d},other={kw} ')\n",
    "\n",
    "\n",
    "if __name__ == '__main__':\n",
    "    args=(10,12,13)\n",
    "    kw={'d':13,'h':12}\n",
    "    f1(*args,**kw)"
   ]
  },
  {
   "cell_type": "markdown",
   "metadata": {},
   "source": [
    "- 对于任意函数，不管其参数如何定义，都可以通过类似 func(*args, **kw) 的形式调用\n",
    "它。"
   ]
  },
  {
   "cell_type": "code",
   "execution_count": 41,
   "metadata": {},
   "outputs": [
    {
     "name": "stdout",
     "output_type": "stream",
     "text": [
      "a=10,b=12,c=13,other={'d': 13, 'h': 12} \n"
     ]
    }
   ],
   "source": [
    "def f2(a=1,b=1,c=0,**kw):\n",
    "    print(f'a={a},b={b},c={c},other={kw} ')\n",
    "\n",
    "\n",
    "if __name__ == '__main__':\n",
    "    args=(10,12,13)\n",
    "    kw={'d':13,'h':12}\n",
    "    f2(*args,**kw)\n"
   ]
  }
 ],
 "metadata": {
  "interpreter": {
   "hash": "df642eef7b43fe7a4a517bca7a97690968a466268416ac555ac71584a4a4c66c"
  },
  "kernelspec": {
   "display_name": "Python 3.10.4 64-bit",
   "language": "python",
   "name": "python3"
  },
  "language_info": {
   "codemirror_mode": {
    "name": "ipython",
    "version": 3
   },
   "file_extension": ".py",
   "mimetype": "text/x-python",
   "name": "python",
   "nbconvert_exporter": "python",
   "pygments_lexer": "ipython3",
   "version": "3.10.4"
  },
  "orig_nbformat": 4
 },
 "nbformat": 4,
 "nbformat_minor": 2
}
