{
 "cells": [
  {
   "cell_type": "markdown",
   "metadata": {},
   "source": [
    "面向对象最重要的概念就是类 (Class)和实例 (Instance).  \n",
    "- 类是抽象的模板，比如 Student 类，\n",
    "- 实例是根据类创建出来的一个个具体的“对象”，  \n",
    "每个对象都拥有相同的方法，但各自的数据可能不同。"
   ]
  },
  {
   "cell_type": "markdown",
   "metadata": {},
   "source": [
    "class后紧跟类名 Student，再紧跟(object)，表示该类是从哪个类继承下来的。  \n",
    "- 类名通常以大写字母开头\n",
    "- 如果没有合适的继承类，就使用 object 类，  \n",
    "它是所有类最终都会继承的类。"
   ]
  },
  {
   "cell_type": "code",
   "execution_count": 2,
   "metadata": {},
   "outputs": [
    {
     "name": "stdout",
     "output_type": "stream",
     "text": [
      "wzf:100 \n"
     ]
    }
   ],
   "source": [
    "class Student(object):\n",
    "    def __init__(self,name,score):\n",
    "        self.name=name\n",
    "        self.score=score\n",
    "\n",
    "    def print_score(self):\n",
    "        print(f'{self.name}:{self.score} ')\n",
    "\n",
    "s=Student('wzf',100)\n",
    "s.print_score()"
   ]
  }
 ],
 "metadata": {
  "interpreter": {
   "hash": "df642eef7b43fe7a4a517bca7a97690968a466268416ac555ac71584a4a4c66c"
  },
  "kernelspec": {
   "display_name": "Python 3.10.4 64-bit",
   "language": "python",
   "name": "python3"
  },
  "language_info": {
   "codemirror_mode": {
    "name": "ipython",
    "version": 3
   },
   "file_extension": ".py",
   "mimetype": "text/x-python",
   "name": "python",
   "nbconvert_exporter": "python",
   "pygments_lexer": "ipython3",
   "version": "3.10.4"
  },
  "orig_nbformat": 4
 },
 "nbformat": 4,
 "nbformat_minor": 2
}
