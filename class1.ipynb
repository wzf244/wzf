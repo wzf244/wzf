{
 "cells": [
  {
   "cell_type": "markdown",
   "metadata": {},
   "source": [
    "求序列最大值的算法O(n)"
   ]
  },
  {
   "cell_type": "code",
   "execution_count": 27,
   "metadata": {},
   "outputs": [
    {
     "data": {
      "text/plain": [
       "9"
      ]
     },
     "execution_count": 27,
     "metadata": {},
     "output_type": "execute_result"
    }
   ],
   "source": [
    "def find_max(data):\n",
    "    \"\"\"Return the maximum element from a nonempty Python list.\"\"\"\n",
    "    biggest=data[0]\n",
    "    for val in data:\n",
    "        if val>biggest:\n",
    "            biggest=val;\n",
    "    return biggest\n",
    "\n",
    "data=[1, 4 ,5, 6 ,2 ,5, 2 ,8 ,9]\n",
    "find_max(data)"
   ]
  },
  {
   "cell_type": "markdown",
   "metadata": {},
   "source": [
    "前缀平均 (Prefix Average): <br>\n",
    "给定一个由 n 个数构成的序列 S，求另一个序列 A 使得其元素满足:\n",
    "$ \n",
    "A_j=\\frac{\\sum_{i=0}^{j} {S_i}}{j+1}\n",
    " $\n"
   ]
  },
  {
   "cell_type": "code",
   "execution_count": 36,
   "metadata": {},
   "outputs": [
    {
     "data": {
      "text/plain": [
       "[1.0,\n",
       " 2.5,\n",
       " 3.3333333333333335,\n",
       " 4.0,\n",
       " 3.6,\n",
       " 3.8333333333333335,\n",
       " 3.5714285714285716,\n",
       " 4.125,\n",
       " 4.666666666666667]"
      ]
     },
     "execution_count": 36,
     "metadata": {},
     "output_type": "execute_result"
    }
   ],
   "source": [
    "def prefix_average1(S):\n",
    "    n=len(S)\n",
    "    A=[0]*n\n",
    "    for j in range(n):\n",
    "        for i in range(j+1):\n",
    "            A[j]+=S[i]\n",
    "        A[j]/=j+1\n",
    "\n",
    "    return A\n",
    "        \n",
    "data=[1, 4 ,5, 6 ,2 ,5, 2 ,8 ,9]\n",
    "prefix_average1(data)"
   ]
  },
  {
   "cell_type": "markdown",
   "metadata": {},
   "source": [
    "复杂度更小的前缀平均算法"
   ]
  },
  {
   "cell_type": "code",
   "execution_count": 35,
   "metadata": {},
   "outputs": [
    {
     "data": {
      "text/plain": [
       "[1.0,\n",
       " 2.5,\n",
       " 3.3333333333333335,\n",
       " 4.0,\n",
       " 3.6,\n",
       " 3.8333333333333335,\n",
       " 3.5714285714285716,\n",
       " 4.125,\n",
       " 4.666666666666667]"
      ]
     },
     "execution_count": 35,
     "metadata": {},
     "output_type": "execute_result"
    }
   ],
   "source": [
    "def prefix_average2(S):\n",
    "    n=len(S)\n",
    "    A=[0]*n\n",
    "    total=0\n",
    "    for j in range(n):\n",
    "        total+=S[j]\n",
    "        A[j]=total/(j+1)\n",
    "    return A\n",
    "data=[1, 4 ,5, 6 ,2 ,5, 2 ,8 ,9]\n",
    "prefix_average2(data)\n"
   ]
  },
  {
   "cell_type": "markdown",
   "metadata": {},
   "source": [
    "三路集合不相交：<br>\n",
    "给定三个集合 A,B,C ，每个集合中的元素皆互异。三路集合不相交问题是判定三个集合<br>\n",
    "的交集是否为空。若不为空，则存在元素 x 使得 x ∈A,x ∈B,x ∈C "
   ]
  },
  {
   "cell_type": "code",
   "execution_count": 7,
   "metadata": {},
   "outputs": [
    {
     "name": "stdout",
     "output_type": "stream",
     "text": [
      "False\n",
      "True\n"
     ]
    }
   ],
   "source": [
    "def disjoint1(A,B,C): \n",
    "    \"\"\"Return True if there is no element common to all three lists.\"\"\"\n",
    "    for i in A:\n",
    "        for j in B:\n",
    "            for k in C:\n",
    "                if i==j==k:\n",
    "                    return False\n",
    "    return True\n",
    "\n",
    "A=[1,2,3]; B=[2,3,4]; C=[4,5,6]; D=[2,5,6] \n",
    "a=disjoint1(A,B,D)\n",
    "b=disjoint1(A,C,D)\n",
    "print(a)\n",
    "print(b)"
   ]
  },
  {
   "cell_type": "code",
   "execution_count": 5,
   "metadata": {},
   "outputs": [
    {
     "name": "stdout",
     "output_type": "stream",
     "text": [
      "False\n",
      "True\n"
     ]
    }
   ],
   "source": [
    "def disjoint2(A, B, C):\n",
    "    \"\"\"Return True if there is no element common to all threelists.\"\"\"\n",
    "    for a in A:\n",
    "        for b in B:\n",
    "            if a == b: # O(n^2)\n",
    "                for c in C:\n",
    "                    if a == c:\n",
    "                        return False\n",
    "    return True\n",
    "\n",
    "A=[1,2,3]; B=[2,3,4]; C=[4,5,6]; D=[2,5,6] \n",
    "a=disjoint2(A,B,D)\n",
    "b=disjoint2(A,C,D)\n",
    "print(a)\n",
    "print(b)\n"
   ]
  },
  {
   "cell_type": "markdown",
   "metadata": {},
   "source": [
    "元素唯一性<br>\n",
    "对一个长度为 n 的序列，判断其元素是否互异?\n",
    "\n",
    "\n"
   ]
  },
  {
   "cell_type": "code",
   "execution_count": 3,
   "metadata": {},
   "outputs": [
    {
     "name": "stdout",
     "output_type": "stream",
     "text": [
      "True\n",
      "False\n"
     ]
    }
   ],
   "source": [
    "def unique1(S):\n",
    "    \"\"\"Return True if there are no duplicate elements in sequence S.\"\"\"\n",
    "    n=len(S)\n",
    "    for i in range(n):\n",
    "        for j in range(i+1,n):\n",
    "            if S[i]==S[j]:\n",
    "                return False\n",
    "    return True\n",
    "\n",
    "A=[1,2,3];B=[1,2,3,3]\n",
    "a=unique1(A)\n",
    "b=unique1(B)\n",
    "print(a)\n",
    "print(b)"
   ]
  },
  {
   "cell_type": "code",
   "execution_count": 2,
   "metadata": {},
   "outputs": [
    {
     "name": "stdout",
     "output_type": "stream",
     "text": [
      "True\n",
      "False\n"
     ]
    }
   ],
   "source": [
    "def unique2(S):\n",
    "    \"\"\"Return True if there are no duplicate elements in sequence S.\"\"\"\n",
    "    s=sorted(S)\n",
    "    n=len(S)\n",
    "    for i in range(n-1):\n",
    "        if s[i]==s[i+1]:\n",
    "                return False\n",
    "    return True\n",
    "\n",
    "A=[1,2,3];B=[1,2,3,3]\n",
    "a=unique2(A)\n",
    "b=unique2(B)\n",
    "print(a)\n",
    "print(b)\n"
   ]
  }
 ],
 "metadata": {
  "interpreter": {
   "hash": "df642eef7b43fe7a4a517bca7a97690968a466268416ac555ac71584a4a4c66c"
  },
  "kernelspec": {
   "display_name": "Python 3.10.4 64-bit",
   "language": "python",
   "name": "python3"
  },
  "language_info": {
   "codemirror_mode": {
    "name": "ipython",
    "version": 3
   },
   "file_extension": ".py",
   "mimetype": "text/x-python",
   "name": "python",
   "nbconvert_exporter": "python",
   "pygments_lexer": "ipython3",
   "version": "3.10.4"
  },
  "orig_nbformat": 4
 },
 "nbformat": 4,
 "nbformat_minor": 2
}
