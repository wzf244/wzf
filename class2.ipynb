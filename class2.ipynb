{
 "cells": [
  {
   "cell_type": "markdown",
   "metadata": {},
   "source": [
    "对于单个字符的编码，Python 使用<br>\n",
    " ord() 获取字符的整数表示，<br>\n",
    "chr() 把编码转换为对应的字符。"
   ]
  },
  {
   "cell_type": "code",
   "execution_count": 4,
   "metadata": {},
   "outputs": [
    {
     "name": "stdout",
     "output_type": "stream",
     "text": [
      "65\n",
      "20013\n",
      "B\n",
      "文\n"
     ]
    }
   ],
   "source": [
    "print(ord('A'))\n",
    "print(ord('中'))\n",
    "print(chr(66))\n",
    "print(chr(25991))"
   ]
  },
  {
   "cell_type": "markdown",
   "metadata": {},
   "source": [
    "%-formmating(类似于C语言占位符)"
   ]
  },
  {
   "cell_type": "code",
   "execution_count": 10,
   "metadata": {},
   "outputs": [
    {
     "name": "stdout",
     "output_type": "stream",
     "text": [
      "I am wzf\n",
      "My name is wzf,and I am 21 years old.\n",
      "* 22* *011*\n",
      "*3.142* *4.000e+03*\n"
     ]
    }
   ],
   "source": [
    "print('I am %s'%'wzf')\n",
    "name='wzf'\n",
    "age=21\n",
    "print('My name is %s,and I am %d years old.'%(name,age))\n",
    "\n",
    "print('*%3d* *%03d*' % (22, 11))\n",
    "print('*%.3f* *%8.3e*' % (3.1415926 , 4000.21))"
   ]
  },
  {
   "cell_type": "markdown",
   "metadata": {},
   "source": [
    "对%-formatting的改进str.format()<br>\n",
    "可通过引用索引来以任何顺序引用变量"
   ]
  },
  {
   "cell_type": "code",
   "execution_count": 5,
   "metadata": {},
   "outputs": [
    {
     "name": "stdout",
     "output_type": "stream",
     "text": [
      "Hello, Ming. You are 23.\n"
     ]
    }
   ],
   "source": [
    "name = 'Ming'\n",
    "age = 23\n",
    "print('Hello, {1}. You are {0}.'.format(age,name ))\n"
   ]
  },
  {
   "cell_type": "markdown",
   "metadata": {},
   "source": [
    "如果插入变量名称，则会获得额外的能够传递对象的权限，<br>\n",
    "然后在大括号之间引用参数和方法。<br>\n",
    "可以使用 ** 来用字典来完成这个巧妙的技巧.\n"
   ]
  },
  {
   "cell_type": "code",
   "execution_count": 4,
   "metadata": {},
   "outputs": [
    {
     "name": "stdout",
     "output_type": "stream",
     "text": [
      "Hello, Ming. You are 23.\n",
      "Hello, Ming. You are 23.\n"
     ]
    }
   ],
   "source": [
    "person = {'name': 'Ming', 'age': 23}\n",
    "print('Hello, {name}. You are {age}.'.format(name=person['name'\n",
    "], age=person['age']))\n",
    "\n",
    "print('Hello, {name}. You are {age}.'.format(**person))"
   ]
  },
  {
   "cell_type": "markdown",
   "metadata": {},
   "source": [
    " f-string:  \n",
    " f-string 从 Python 3.6 开始加入标准库。与其他格式化方式相比，  \n",
    " 它们不仅更易读，更简洁，不易出错，而且速度更快"
   ]
  },
  {
   "cell_type": "code",
   "execution_count": 7,
   "metadata": {},
   "outputs": [
    {
     "name": "stdout",
     "output_type": "stream",
     "text": [
      "My name is wzf,and I am 18 years old!\n",
      "wzf is smart\n"
     ]
    }
   ],
   "source": [
    "name='wzf';age=18\n",
    "print(f'My name is {name},and I am {age} years old!')\n",
    "print(f'{name.lower()} is smart')"
   ]
  },
  {
   "cell_type": "markdown",
   "metadata": {},
   "source": [
    "列表(list)的操作"
   ]
  },
  {
   "cell_type": "code",
   "execution_count": 18,
   "metadata": {},
   "outputs": [
    {
     "name": "stdout",
     "output_type": "stream",
     "text": [
      "3\n",
      "['Math', 'Chinese', 'English', 'P.E.']\n",
      "['Math', 'Chinese', 'Physics', 'English', 'P.E.']\n",
      "['Chinese', 'Physics', 'English', 'P.E.']\n",
      "['Math', 'Physics', 'English', 'P.E.']\n"
     ]
    }
   ],
   "source": [
    "courses=['Math','Chinese','English']\n",
    "print(len(courses))\n",
    "courses.append('P.E.')\n",
    "print(courses)\n",
    "courses.insert(2,'Physics')#insert(index,element)\n",
    "print(courses)\n",
    "courses.pop(0) #pop() delete the last element\n",
    "print(courses)\n",
    "courses[0]='Math'\n",
    "print(courses)"
   ]
  },
  {
   "cell_type": "markdown",
   "metadata": {},
   "source": [
    "元组(tuple)的操作"
   ]
  },
  {
   "cell_type": "code",
   "execution_count": 20,
   "metadata": {},
   "outputs": [
    {
     "name": "stdout",
     "output_type": "stream",
     "text": [
      "<class 'tuple'> ('math', 'chinese', 3)\n",
      "<class 'tuple'> (1,)\n",
      "<class 'int'> 1\n"
     ]
    }
   ],
   "source": [
    "tp=('math','chinese',3)\n",
    "print(type(tp),tp)\n",
    "t1=(1,)\n",
    "t2=(1)\n",
    "print(type(t1),t1)\n",
    "print(type(t2),t2)"
   ]
  },
  {
   "cell_type": "markdown",
   "metadata": {},
   "source": [
    "**字典**(dict):在其他语言中也称为map，  \n",
    "使用键-值对(key-value pair)存储."
   ]
  },
  {
   "cell_type": "code",
   "execution_count": null,
   "metadata": {},
   "outputs": [],
   "source": []
  },
  {
   "cell_type": "code",
   "execution_count": null,
   "metadata": {},
   "outputs": [],
   "source": []
  }
 ],
 "metadata": {
  "interpreter": {
   "hash": "df642eef7b43fe7a4a517bca7a97690968a466268416ac555ac71584a4a4c66c"
  },
  "kernelspec": {
   "display_name": "Python 3.10.4 64-bit",
   "language": "python",
   "name": "python3"
  },
  "language_info": {
   "codemirror_mode": {
    "name": "ipython",
    "version": 3
   },
   "file_extension": ".py",
   "mimetype": "text/x-python",
   "name": "python",
   "nbconvert_exporter": "python",
   "pygments_lexer": "ipython3",
   "version": "3.10.4"
  },
  "orig_nbformat": 4
 },
 "nbformat": 4,
 "nbformat_minor": 2
}
